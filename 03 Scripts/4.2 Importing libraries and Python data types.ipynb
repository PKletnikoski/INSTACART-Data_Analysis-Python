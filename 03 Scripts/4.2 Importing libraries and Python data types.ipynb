{
 "cells": [
  {
   "cell_type": "markdown",
   "id": "f755745e",
   "metadata": {},
   "source": [
    "# 01.Importing libraries"
   ]
  },
  {
   "cell_type": "code",
   "execution_count": 5,
   "id": "06bd05e9",
   "metadata": {},
   "outputs": [],
   "source": [
    "# Import libraries\n",
    "import pandas as pd\n",
    "import numpy as np\n",
    "import os"
   ]
  },
  {
   "cell_type": "markdown",
   "id": "e50b7770",
   "metadata": {},
   "source": [
    "# 02.Data types"
   ]
  },
  {
   "cell_type": "code",
   "execution_count": 43,
   "id": "f14a0cfc",
   "metadata": {},
   "outputs": [],
   "source": [
    "x = 50"
   ]
  },
  {
   "cell_type": "code",
   "execution_count": 44,
   "id": "1a6fdb2f",
   "metadata": {},
   "outputs": [],
   "source": [
    "y=55"
   ]
  },
  {
   "cell_type": "code",
   "execution_count": 45,
   "id": "368ebd29",
   "metadata": {},
   "outputs": [],
   "source": [
    "z=5"
   ]
  },
  {
   "cell_type": "code",
   "execution_count": 46,
   "id": "03cd93bf",
   "metadata": {},
   "outputs": [
    {
     "data": {
      "text/plain": [
       "100"
      ]
     },
     "execution_count": 46,
     "metadata": {},
     "output_type": "execute_result"
    }
   ],
   "source": [
    "x+y-z"
   ]
  },
  {
   "cell_type": "code",
   "execution_count": 47,
   "id": "09752334",
   "metadata": {},
   "outputs": [],
   "source": [
    "y=55-z"
   ]
  },
  {
   "cell_type": "code",
   "execution_count": 48,
   "id": "5ddfa748",
   "metadata": {},
   "outputs": [
    {
     "data": {
      "text/plain": [
       "100"
      ]
     },
     "execution_count": 48,
     "metadata": {},
     "output_type": "execute_result"
    }
   ],
   "source": [
    "x+y"
   ]
  },
  {
   "cell_type": "code",
   "execution_count": 50,
   "id": "248d2778",
   "metadata": {},
   "outputs": [
    {
     "data": {
      "text/plain": [
       "100"
      ]
     },
     "execution_count": 50,
     "metadata": {},
     "output_type": "execute_result"
    }
   ],
   "source": [
    "x-z+y+5"
   ]
  },
  {
   "cell_type": "code",
   "execution_count": 53,
   "id": "2f5fd198",
   "metadata": {},
   "outputs": [],
   "source": [
    "x=x*0.25"
   ]
  },
  {
   "cell_type": "code",
   "execution_count": 52,
   "id": "21ce849c",
   "metadata": {},
   "outputs": [
    {
     "data": {
      "text/plain": [
       "6.25"
      ]
     },
     "execution_count": 52,
     "metadata": {},
     "output_type": "execute_result"
    }
   ],
   "source": [
    "x/2"
   ]
  },
  {
   "cell_type": "code",
   "execution_count": 54,
   "id": "4e87c54f",
   "metadata": {},
   "outputs": [],
   "source": [
    "y=y*5.5"
   ]
  },
  {
   "cell_type": "code",
   "execution_count": 55,
   "id": "8bf6c5e4",
   "metadata": {},
   "outputs": [
    {
     "data": {
      "text/plain": [
       "55.0"
      ]
     },
     "execution_count": 55,
     "metadata": {},
     "output_type": "execute_result"
    }
   ],
   "source": [
    "y/5"
   ]
  },
  {
   "cell_type": "code",
   "execution_count": 56,
   "id": "aadf27a1",
   "metadata": {},
   "outputs": [],
   "source": [
    "a= 'Marko, '"
   ]
  },
  {
   "cell_type": "code",
   "execution_count": 65,
   "id": "8daa28a9",
   "metadata": {},
   "outputs": [],
   "source": [
    "b= ' Polo '"
   ]
  },
  {
   "cell_type": "code",
   "execution_count": 66,
   "id": "72be3efc",
   "metadata": {},
   "outputs": [
    {
     "data": {
      "text/plain": [
       "'Marko Polo'"
      ]
     },
     "execution_count": 66,
     "metadata": {},
     "output_type": "execute_result"
    }
   ],
   "source": [
    "a + b"
   ]
  },
  {
   "cell_type": "code",
   "execution_count": 76,
   "id": "02817f77",
   "metadata": {},
   "outputs": [],
   "source": [
    "c = ' is a explorer.'"
   ]
  },
  {
   "cell_type": "code",
   "execution_count": 77,
   "id": "b638ca53",
   "metadata": {},
   "outputs": [
    {
     "data": {
      "text/plain": [
       "'Marko Polo is a explorer.'"
      ]
     },
     "execution_count": 77,
     "metadata": {},
     "output_type": "execute_result"
    }
   ],
   "source": [
    "a + b + c"
   ]
  },
  {
   "cell_type": "code",
   "execution_count": 82,
   "id": "4c6fb134",
   "metadata": {},
   "outputs": [],
   "source": [
    "d = ' is Italian. '"
   ]
  },
  {
   "cell_type": "code",
   "execution_count": 83,
   "id": "c398ac87",
   "metadata": {},
   "outputs": [
    {
     "data": {
      "text/plain": [
       "'Marko Polo is Italian. '"
      ]
     },
     "execution_count": 83,
     "metadata": {},
     "output_type": "execute_result"
    }
   ],
   "source": [
    "a + b + d"
   ]
  },
  {
   "cell_type": "code",
   "execution_count": 84,
   "id": "1887ca93",
   "metadata": {},
   "outputs": [],
   "source": [
    "e = a + b + c"
   ]
  },
  {
   "cell_type": "code",
   "execution_count": 85,
   "id": "5c318827",
   "metadata": {},
   "outputs": [
    {
     "data": {
      "text/plain": [
       "'Marko Polo is a explorer.Marko Polo is a explorer.Marko Polo is a explorer.Marko Polo is a explorer.Marko Polo is a explorer.Marko Polo is a explorer.Marko Polo is a explorer.Marko Polo is a explorer.Marko Polo is a explorer.Marko Polo is a explorer.Marko Polo is a explorer.Marko Polo is a explorer.Marko Polo is a explorer.Marko Polo is a explorer.Marko Polo is a explorer.Marko Polo is a explorer.Marko Polo is a explorer.Marko Polo is a explorer.Marko Polo is a explorer.Marko Polo is a explorer.Marko Polo is a explorer.Marko Polo is a explorer.Marko Polo is a explorer.Marko Polo is a explorer.Marko Polo is a explorer.Marko Polo is a explorer.Marko Polo is a explorer.Marko Polo is a explorer.Marko Polo is a explorer.Marko Polo is a explorer.Marko Polo is a explorer.Marko Polo is a explorer.Marko Polo is a explorer.Marko Polo is a explorer.Marko Polo is a explorer.Marko Polo is a explorer.Marko Polo is a explorer.Marko Polo is a explorer.Marko Polo is a explorer.Marko Polo is a explorer.Marko Polo is a explorer.Marko Polo is a explorer.Marko Polo is a explorer.Marko Polo is a explorer.Marko Polo is a explorer.Marko Polo is a explorer.Marko Polo is a explorer.Marko Polo is a explorer.Marko Polo is a explorer.Marko Polo is a explorer.Marko Polo is a explorer.Marko Polo is a explorer.Marko Polo is a explorer.Marko Polo is a explorer.Marko Polo is a explorer.Marko Polo is a explorer.Marko Polo is a explorer.Marko Polo is a explorer.Marko Polo is a explorer.Marko Polo is a explorer.Marko Polo is a explorer.Marko Polo is a explorer.Marko Polo is a explorer.Marko Polo is a explorer.Marko Polo is a explorer.Marko Polo is a explorer.Marko Polo is a explorer.Marko Polo is a explorer.Marko Polo is a explorer.Marko Polo is a explorer.Marko Polo is a explorer.Marko Polo is a explorer.Marko Polo is a explorer.Marko Polo is a explorer.Marko Polo is a explorer.Marko Polo is a explorer.Marko Polo is a explorer.Marko Polo is a explorer.Marko Polo is a explorer.Marko Polo is a explorer.Marko Polo is a explorer.Marko Polo is a explorer.Marko Polo is a explorer.Marko Polo is a explorer.Marko Polo is a explorer.Marko Polo is a explorer.Marko Polo is a explorer.Marko Polo is a explorer.Marko Polo is a explorer.Marko Polo is a explorer.Marko Polo is a explorer.Marko Polo is a explorer.Marko Polo is a explorer.Marko Polo is a explorer.Marko Polo is a explorer.Marko Polo is a explorer.Marko Polo is a explorer.Marko Polo is a explorer.Marko Polo is a explorer.Marko Polo is a explorer.'"
      ]
     },
     "execution_count": 85,
     "metadata": {},
     "output_type": "execute_result"
    }
   ],
   "source": [
    "e *100"
   ]
  },
  {
   "cell_type": "code",
   "execution_count": null,
   "id": "4f3add31",
   "metadata": {},
   "outputs": [],
   "source": []
  }
 ],
 "metadata": {
  "kernelspec": {
   "display_name": "Python 3 (ipykernel)",
   "language": "python",
   "name": "python3"
  },
  "language_info": {
   "codemirror_mode": {
    "name": "ipython",
    "version": 3
   },
   "file_extension": ".py",
   "mimetype": "text/x-python",
   "name": "python",
   "nbconvert_exporter": "python",
   "pygments_lexer": "ipython3",
   "version": "3.11.4"
  }
 },
 "nbformat": 4,
 "nbformat_minor": 5
}
